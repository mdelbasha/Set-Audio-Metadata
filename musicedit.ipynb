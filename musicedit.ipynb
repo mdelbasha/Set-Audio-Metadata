{
 "cells": [
  {
   "cell_type": "code",
   "execution_count": 1,
   "metadata": {},
   "outputs": [],
   "source": [
    "import os\n",
    "import glob\n",
    "import pandas as pd\n",
    "from mutagen.wave import WAVE\n",
    "from mutagen.mp3 import MP3  \n",
    "from mutagen.easyid3 import EasyID3\n",
    "from mutagen.id3 import TIT2, TCON, TCOM, TALB, TRCK, TYER, TPE1"
   ]
  },
  {
   "cell_type": "code",
   "execution_count": 2,
   "metadata": {},
   "outputs": [],
   "source": [
    "files = glob.glob(os.path.join(os.getcwd(),\n",
    "                                'Working_Songs',\n",
    "                                '*'))\n",
    "p1 = \"/Users/mdelbasha/Library/CloudStorage/OneDrive-Personal/Documents/Conversion Tracker for MIXXX.xlsx\"\n",
    "df1 = pd.read_excel(p1, index_col='Song Count')"
   ]
  },
  {
   "cell_type": "code",
   "execution_count": 3,
   "metadata": {},
   "outputs": [
    {
     "name": "stdout",
     "output_type": "stream",
     "text": [
      "Working on /Users/mdelbasha/Downloads/Working_Songs/82_Musica Adventista Infantil.mp3\n",
      "Working on /Users/mdelbasha/Downloads/Working_Songs/80_Christ Be Magnified Piano Instrumental.wav\n",
      "Working on /Users/mdelbasha/Downloads/Working_Songs/79_Million Little Miracles Piano Instrumental.wav\n",
      "Working on /Users/mdelbasha/Downloads/Working_Songs/83_Himnos Cristianos Para Bebes.mp3\n",
      "Working on /Users/mdelbasha/Downloads/Working_Songs/84_Jesus Me Ama Para Bebes Mix Instrumental.mp3\n",
      "Working on /Users/mdelbasha/Downloads/Working_Songs/81_Canciones de Cuna Cristiana.mp3\n"
     ]
    }
   ],
   "source": [
    "cols = df1.columns.values.tolist()\n",
    "# cols.remove('Song Count')\n",
    "for fp in files:\n",
    "    print(f\"Working on {fp}\")\n",
    "    file_name = os.path.basename(fp)\n",
    "    ext = file_name.split('.')[-1]\n",
    "    if ext == 'wav':\n",
    "        metawav = WAVE(fp)\n",
    "        sname = file_name.replace('.wav', '')\n",
    "        # dfix = input(f\"Note column index for {sname}\")\n",
    "        dfix = str(int(sname.split(\"_\")[0]))\n",
    "        for col in cols:\n",
    "            if col == 'Title':\n",
    "                metawav[col.lower()] = TIT2(text=[df1.loc[int(dfix), col]])\n",
    "            if col == 'Genre':\n",
    "                metawav[col.lower()] = TCON(text=[df1.loc[int(dfix), col]])\n",
    "            if col == 'Composer':\n",
    "                metawav[col.lower()] = TCOM(text=[df1.loc[int(dfix), col]])\n",
    "            if col == 'Album':\n",
    "                metawav[col.lower()] = TALB(text=[df1.loc[int(dfix), col]])\n",
    "            if col == 'Track':\n",
    "                metawav[col.lower()] = TRCK(text=[df1.loc[int(dfix), col]])\n",
    "            if col == 'Year':\n",
    "                metawav[col.lower()] = TYER(text=[df1.loc[int(dfix), col]])\n",
    "            if col == \"Artist\":\n",
    "                metawav[col.lower()] = TPE1(text=[df1.loc[int(dfix), col]])\n",
    "        metawav.save()\n",
    "    elif ext == 'mp3':\n",
    "        metamp3 = MP3(fp, ID3=EasyID3)\n",
    "        sname = file_name.replace('.mp3', '')\n",
    "        # dfix = input(f\"Note column index for {sname}\")\n",
    "        dfix = str(int(sname.split(\"_\")[0]))\n",
    "        for col in cols:\n",
    "            if col == 'Title':\n",
    "                metamp3[col.lower()] = df1.loc[int(dfix), col]\n",
    "            if col == 'Genre':\n",
    "                metamp3[col.lower()] = df1.loc[int(dfix), col]\n",
    "            if col == 'Composer':\n",
    "                metamp3[col.lower()] = df1.loc[int(dfix), col]\n",
    "            if col == 'Album':\n",
    "                metamp3[col.lower()] = df1.loc[int(dfix), col]\n",
    "            if col == 'Track':\n",
    "                metamp3['tracknumber'] = \"{}\".format(df1.loc[int(dfix), col])\n",
    "            if col == 'Year':\n",
    "                metamp3['Date'] = df1.loc[int(dfix), col].astype(str)\n",
    "            if col == \"Artist\":\n",
    "                metamp3[col.lower()] = df1.loc[int(dfix), col]\n",
    "        metamp3.save()\n",
    "    else:\n",
    "        msg_list = [f'Do not recognize audio extension ({ext})', \n",
    "                    'Current support for .wav and .mp3 files']\n",
    "        raise ValueError(\" \".join(msg_list))\n",
    "\n",
    "# mutagen.id3.TIT2(encoding=<Encoding.UTF16: 1>, text=[]) # Title\n",
    "# mutagen.id3.TCON(encoding=<Encoding.UTF16: 1>, text=[]) # Genre\n",
    "# mutagen.id3.TCOM(encoding=<Encoding.UTF16: 1>, text=[]) # Composer\n",
    "# mutagen.id3.TALB(encoding=<Encoding.UTF16: 1>, text=[]) # Album\n",
    "# mutagen.id3.TRCK(encoding=<Encoding.UTF16: 1>, text=[]) # Track Number\n",
    "# mutagen.id3.TYER(encoding=<Encoding.UTF16: 1>, text=[]) # Year of Recording\n",
    "# mutagen.id3.TPE1(encoding=<Encoding.UTF16: 1>, text=[]) # Artist\n",
    "\n",
    "\n",
    "    # metawav.save()\n"
   ]
  },
  {
   "cell_type": "code",
   "execution_count": null,
   "metadata": {},
   "outputs": [],
   "source": []
  },
  {
   "cell_type": "code",
   "execution_count": null,
   "metadata": {},
   "outputs": [],
   "source": []
  },
  {
   "cell_type": "code",
   "execution_count": null,
   "metadata": {},
   "outputs": [],
   "source": []
  }
 ],
 "metadata": {
  "kernelspec": {
   "display_name": "sandbox",
   "language": "python",
   "name": "python3"
  },
  "language_info": {
   "codemirror_mode": {
    "name": "ipython",
    "version": 3
   },
   "file_extension": ".py",
   "mimetype": "text/x-python",
   "name": "python",
   "nbconvert_exporter": "python",
   "pygments_lexer": "ipython3",
   "version": "3.11.9"
  }
 },
 "nbformat": 4,
 "nbformat_minor": 2
}
